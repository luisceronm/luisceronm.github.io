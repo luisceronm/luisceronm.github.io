{
  "nbformat": 4,
  "nbformat_minor": 0,
  "metadata": {
    "colab": {
      "name": "Copia de Untitled15.ipynb",
      "provenance": [],
      "collapsed_sections": [],
      "authorship_tag": "ABX9TyN2S+MHz4WC60X8RdoB2khu",
      "include_colab_link": true
    },
    "kernelspec": {
      "name": "python3",
      "display_name": "Python 3"
    },
    "language_info": {
      "name": "python"
    }
  },
  "cells": [
    {
      "cell_type": "markdown",
      "metadata": {
        "id": "view-in-github",
        "colab_type": "text"
      },
      "source": [
        "<a href=\"https://colab.research.google.com/github/luisceronm/luisceronm.github.io/blob/master/Copia_de_Untitled15.ipynb\" target=\"_parent\"><img src=\"https://colab.research.google.com/assets/colab-badge.svg\" alt=\"Open In Colab\"/></a>"
      ]
    },
    {
      "cell_type": "code",
      "execution_count": null,
      "metadata": {
        "colab": {
          "base_uri": "https://localhost:8080/"
        },
        "id": "s5X4R3vAC8UL",
        "outputId": "91d298d5-ec18-4b1e-df31-4f5c8febe910"
      },
      "outputs": [
        {
          "output_type": "stream",
          "name": "stdout",
          "text": [
            "['30']\n"
          ]
        }
      ],
      "source": [
        "from sklearn import tree\n",
        "#protocolo\n",
        "# cronica de diabetes\n",
        "# creacion para la instancia de arbol de decision.  \n",
        "clf = tree.DecisionTreeClassifier()\n",
        "#  el espacio de estados esta conformado por los datos: altura, peso, genero, edad como se muestra:\n",
        "#  [altura, peso, genero, edad]\n",
        "X = [[165, 79, 1, 23], [177, 95, 1, 27], [155, 78, 0, 38], [168, 74, 0, 27], [165, 85, 1, 19],\n",
        "     [184, 87, 1, 37], [170, 94, 1, 29], [167, 95, 0, 20], [179, 94, 1, 22], [172, 89, 1, 32], \n",
        "     [161, 85, 0, 43]]\n",
        "# arbol de decision: edad en que se diagnostica la diabetes o si nunca se contrajo por estar sano\n",
        "Y = ['29', '31', '41', '30', '25', '44', '31', '24', '29', '35', '49' ] \n",
        "\n",
        "# incetidumbre:\n",
        "clf = clf.fit(X,Y)\n",
        "# se definen los datos de ingreso y se realiza la prediccion\n",
        "dato = [170, 73, 1, 28]\n",
        "prediction = clf.predict([dato])\n",
        "# semuestra el resultao de la prediccion de dato\n",
        "print(prediction)\n"
      ]
    }
  ]
}